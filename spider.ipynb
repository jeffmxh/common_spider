{
 "cells": [
  {
   "cell_type": "code",
   "execution_count": 1,
   "metadata": {},
   "outputs": [],
   "source": [
    "import sys\n",
    "sys.path.append('/home/jeffmxh/jupyter_notebook/')"
   ]
  },
  {
   "cell_type": "code",
   "execution_count": 2,
   "metadata": {},
   "outputs": [],
   "source": [
    "import requests\n",
    "import re\n",
    "import json\n",
    "from lxml import etree\n",
    "\n",
    "from spider.utils.CommonUtils import CommonUtils\n",
    "from spider.utils.DictTools import DictTools\n",
    "from spider.utils.LoggingUtils import logger\n",
    "from spider.utils.ParseHelper import ParseHelper\n",
    "from spider.utils.TimeUtils import TimeUtils\n",
    "from spider.config.config import spider_config"
   ]
  },
  {
   "cell_type": "code",
   "execution_count": 3,
   "metadata": {},
   "outputs": [],
   "source": [
    "TimeUtils.sleep()"
   ]
  },
  {
   "cell_type": "code",
   "execution_count": 38,
   "metadata": {},
   "outputs": [
    {
     "data": {
      "text/plain": [
       "'47bce5c74f589f4867dbd57e9ca9f808'"
      ]
     },
     "execution_count": 38,
     "metadata": {},
     "output_type": "execute_result"
    }
   ],
   "source": [
    "CommonUtils.get_md5('aaa')"
   ]
  },
  {
   "cell_type": "code",
   "execution_count": 3,
   "metadata": {},
   "outputs": [],
   "source": [
    "r = requests.get('https://www.ifeng.com/')\n",
    "# r = requests.get('http://news.ifeng.com/mil/special/hlwxdej/')"
   ]
  },
  {
   "cell_type": "code",
   "execution_count": 4,
   "metadata": {},
   "outputs": [
    {
     "name": "stderr",
     "output_type": "stream",
     "text": [
      "[INFO]2020-01-27 16:33:41,050 ParseHelper.py[line:46]:501 urls fetched!\n"
     ]
    },
    {
     "data": {
      "text/plain": [
       "71"
      ]
     },
     "execution_count": 4,
     "metadata": {},
     "output_type": "execute_result"
    }
   ],
   "source": [
    "foo = ParseHelper.parse_root_url(r.text)\n",
    "len(foo)"
   ]
  },
  {
   "cell_type": "code",
   "execution_count": 5,
   "metadata": {},
   "outputs": [
    {
     "name": "stderr",
     "output_type": "stream",
     "text": [
      "[INFO]2020-01-27 16:33:44,671 ParseHelper.py[line:46]:501 urls fetched!\n"
     ]
    },
    {
     "data": {
      "text/plain": [
       "501"
      ]
     },
     "execution_count": 5,
     "metadata": {},
     "output_type": "execute_result"
    }
   ],
   "source": [
    "foo = ParseHelper.parse_url(r.text)\n",
    "len(foo)"
   ]
  },
  {
   "cell_type": "code",
   "execution_count": 32,
   "metadata": {},
   "outputs": [
    {
     "data": {
      "text/plain": [
       "['https://ah.ifeng.com',\n",
       " 'https://ent.ifeng.com',\n",
       " 'https://book.ifeng.com',\n",
       " 'https://qd.ifeng.com',\n",
       " 'https://health.ifeng.com',\n",
       " 'https://gov.ifeng.com',\n",
       " 'https://phtv.ifeng.com',\n",
       " 'https://culture.ifeng.com',\n",
       " 'https://toujiao.ifeng.com',\n",
       " 'https://hainan.ifeng.com',\n",
       " 'https://jifen.finance.ifeng.com',\n",
       " 'https://try.cosmetics.ifeng.com',\n",
       " 'https://zhibo.ifeng.com',\n",
       " 'https://tuan.auto.ifeng.com',\n",
       " 'https://guoxue.ifeng.com',\n",
       " 'https://www.ifeng.com',\n",
       " 'https://home.ifeng.com',\n",
       " 'https://sd.ifeng.com',\n",
       " 'https://js.ifeng.com',\n",
       " 'https://cp.ifeng.com',\n",
       " 'https://foodnwine.ifeng.com',\n",
       " 'https://a.ifeng.com',\n",
       " 'https://www.yc.ifeng.com',\n",
       " 'https://travel.ifeng.com',\n",
       " 'https://jx.ifeng.com',\n",
       " 'https://sn.ifeng.com',\n",
       " 'https://jiu.ifeng.com',\n",
       " 'https://feng.ifeng.com',\n",
       " 'https://zj.ifeng.com',\n",
       " 'https://ucms.ifeng.com',\n",
       " 'https://news.ifeng.com',\n",
       " 'https://vip.v.ifeng.com',\n",
       " 'https://yn.ifeng.com',\n",
       " 'https://data.auto.ifeng.com',\n",
       " 'https://dm.ifeng.com',\n",
       " 'https://fo.ifeng.com',\n",
       " 'https://hn.ifeng.com',\n",
       " 'https://yue.ifeng.com',\n",
       " 'https://finance.ifeng.com',\n",
       " 'https://history.ifeng.com',\n",
       " 'https://dol.deliver.ifeng.com',\n",
       " 'https://hebei.ifeng.com',\n",
       " 'https://hb.ifeng.com',\n",
       " 'https://sports.ifeng.com',\n",
       " 'https://ds.ifeng.com',\n",
       " 'https://house.ifeng.com',\n",
       " 'https://sc.ifeng.com',\n",
       " 'https://biz.ifeng.com',\n",
       " 'https://mil.ifeng.com',\n",
       " 'https://fashion.ifeng.com',\n",
       " 'https://share.iclient.ifeng.com',\n",
       " 'https://wutonghui.ifeng.com',\n",
       " 'https://auto.ifeng.com',\n",
       " 'https://cci.ifeng.com',\n",
       " 'https://cq.ifeng.com',\n",
       " 'https://v.ifeng.com',\n",
       " 'https://yc.ifeng.com',\n",
       " 'https://gd.ifeng.com',\n",
       " 'https://gongyi.ifeng.com',\n",
       " 'https://jl.ifeng.com',\n",
       " 'https://pit.ifeng.com',\n",
       " 'https://gs.ifeng.com',\n",
       " 'https://tech.ifeng.com',\n",
       " 'https://hunan.ifeng.com',\n",
       " 'https://zhuanti.house.ifeng.com',\n",
       " 'https://hlj.ifeng.com',\n",
       " 'https://18.ifeng.com',\n",
       " 'https://pl.ifeng.com',\n",
       " 'https://known.ifeng.com',\n",
       " 'https://5g.ifeng.com',\n",
       " 'https://photo.ifeng.com']"
      ]
     },
     "execution_count": 32,
     "metadata": {},
     "output_type": "execute_result"
    }
   ],
   "source": [
    "foo"
   ]
  },
  {
   "cell_type": "code",
   "execution_count": null,
   "metadata": {},
   "outputs": [],
   "source": []
  }
 ],
 "metadata": {
  "kernelspec": {
   "display_name": "Python 3",
   "language": "python",
   "name": "python3"
  },
  "language_info": {
   "codemirror_mode": {
    "name": "ipython",
    "version": 3
   },
   "file_extension": ".py",
   "mimetype": "text/x-python",
   "name": "python",
   "nbconvert_exporter": "python",
   "pygments_lexer": "ipython3",
   "version": "3.7.4"
  }
 },
 "nbformat": 4,
 "nbformat_minor": 2
}
